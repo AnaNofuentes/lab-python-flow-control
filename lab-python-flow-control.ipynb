{
 "cells": [
  {
   "cell_type": "markdown",
   "id": "d3bfc191-8885-42ee-b0a0-bbab867c6f9f",
   "metadata": {
    "tags": []
   },
   "source": [
    "# Lab | Flow Control"
   ]
  },
  {
   "cell_type": "markdown",
   "id": "3851fcd1-cf98-4653-9c89-e003b7ec9400",
   "metadata": {},
   "source": [
    "## Exercise: Managing Customer Orders Optimized\n",
    "\n",
    "In the last lab, you were starting an online store that sells various products. To ensure smooth operations, you developed a program that manages customer orders and inventory.\n",
    "\n",
    "You did so without using flow control. Let's go a step further and improve this code.\n",
    "\n",
    "Follow the steps below to complete the exercise:\n",
    "\n",
    "1. Look at your code from the lab data structures, and improve repeated code with loops.\n",
    "\n",
    "2. Instead of asking the user to input the name of three products that a customer wants to order, do the following:\n",
    "    \n",
    "    a. Prompt the user to enter the name of a product that a customer wants to order.\n",
    "    \n",
    "    b. Add the product name to the \"customer_orders\" set.\n",
    "    \n",
    "    c. Ask the user if they want to add another product (yes/no).\n",
    "    \n",
    "    d. Continue the loop until the user does not want to add another product.\n",
    "\n",
    "3. Instead of updating the inventory by subtracting 1 from the quantity of each product, only do it for  the products that were ordered (those in \"customer_orders\")."
   ]
  },
  {
   "cell_type": "code",
   "execution_count": 3,
   "id": "fc5e706d",
   "metadata": {},
   "outputs": [
    {
     "name": "stdout",
     "output_type": "stream",
     "text": [
      "Inventory: {'t-shirt': 1, 'mug': 2, 'hat': 3, 'book': 4, 'keychain': 5}\n"
     ]
    }
   ],
   "source": [
    "products = [\"t-shirt\", \"mug\", \"hat\", \"book\", \"keychain\"] \n",
    "inventory = {} \n",
    "\n",
    "for product in products:\n",
    "    quantity= int(input(\"please enter a quantity avaiable\"))\n",
    "    inventory[product] = quantity\n",
    "print(\"Inventory:\", inventory)\n"
   ]
  },
  {
   "cell_type": "code",
   "execution_count": 7,
   "id": "de09ed56",
   "metadata": {},
   "outputs": [],
   "source": [
    "customer_orders = set()\n"
   ]
  },
  {
   "cell_type": "code",
   "execution_count": 11,
   "id": "27ec4fd4",
   "metadata": {},
   "outputs": [
    {
     "name": "stdout",
     "output_type": "stream",
     "text": [
      "Your set of list is: {'hat', 'mug', 'book'}\n"
     ]
    }
   ],
   "source": [
    "\n",
    "while len(customer_orders) < 3:\n",
    "    \n",
    "    product_name = input('Enter the name of a product you want to order')\n",
    "    if product_name in products:\n",
    "        customer_orders.add(product_name)\n",
    "        print(f'{product_name} has been added to your order.')\n",
    "        another = input(\"Do you want another product? yes / no\")\n",
    "        if another != \"yes\":\n",
    "            break\n",
    "    else:\n",
    "        print(f'{product_name} is not a valid product. Please choose from {products}.')\n",
    "\n",
    "    \n",
    "    \n",
    "print(\"Your set of list is:\", customer_orders)\n"
   ]
  },
  {
   "cell_type": "code",
   "execution_count": 6,
   "id": "5c3cd1e5",
   "metadata": {},
   "outputs": [
    {
     "name": "stdout",
     "output_type": "stream",
     "text": [
      "total products ordered: 3\n",
      "60.0%\n",
      "(3, 60.0)\n"
     ]
    }
   ],
   "source": [
    "total_products_ordered = len(customer_orders)\n",
    "print(f\"total products ordered: {total_products_ordered}\")\n",
    "total_available_products = len(products) \n",
    "\n",
    "percentaje_ordered= total_products_ordered/total_available_products * 100 \n",
    "print(f\"{percentaje_ordered}%\")\n",
    "\n",
    "order_status = (total_products_ordered,percentaje_ordered)\n",
    "print(order_status)"
   ]
  },
  {
   "cell_type": "code",
   "execution_count": 7,
   "id": "0ab503a3",
   "metadata": {},
   "outputs": [
    {
     "name": "stdout",
     "output_type": "stream",
     "text": [
      "Inventory: {'t-shirt': 0, 'mug': 1, 'hat': 2, 'book': 3, 'keychain': 4}\n",
      "t-shirt: 0\n",
      "mug: 1\n",
      "hat: 2\n",
      "book: 3\n",
      "keychain: 4\n"
     ]
    }
   ],
   "source": [
    "for product in products:\n",
    "    inventory[product] -= 1\n",
    "print(\"Inventory:\", inventory)\n",
    "for products, quantity in inventory.items():\n",
    "    print(f\"{products}: {quantity}\")"
   ]
  },
  {
   "cell_type": "code",
   "execution_count": null,
   "id": "49601bbd",
   "metadata": {},
   "outputs": [],
   "source": []
  }
 ],
 "metadata": {
  "kernelspec": {
   "display_name": "Python 3 (ipykernel)",
   "language": "python",
   "name": "python3"
  },
  "language_info": {
   "codemirror_mode": {
    "name": "ipython",
    "version": 3
   },
   "file_extension": ".py",
   "mimetype": "text/x-python",
   "name": "python",
   "nbconvert_exporter": "python",
   "pygments_lexer": "ipython3",
   "version": "3.12.4"
  }
 },
 "nbformat": 4,
 "nbformat_minor": 5
}
